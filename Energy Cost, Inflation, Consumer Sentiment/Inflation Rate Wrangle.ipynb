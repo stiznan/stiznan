{
 "cells": [
  {
   "cell_type": "markdown",
   "id": "6bd0caba",
   "metadata": {},
   "source": [
    "# Inflation Index Wrangle\n",
    "This data comes from [InflationData.com](https://inflationdata.com/Inflation/Inflation_Rate/Monthly_Inflation.aspx#/). A historical documentation website for inflation in the United States. This information was pulled from the website and loaded to an Excel spreadsheet, formatted, and will now be loaded as a CSV. "
   ]
  },
  {
   "cell_type": "code",
   "execution_count": 1,
   "id": "871d35b3",
   "metadata": {},
   "outputs": [],
   "source": [
    "# loading libraries for use \n",
    "import pandas as pd\n",
    "import datetime"
   ]
  },
  {
   "cell_type": "markdown",
   "id": "71afbac3",
   "metadata": {},
   "source": [
    "Loading the CSV into the inf variable for future use."
   ]
  },
  {
   "cell_type": "code",
   "execution_count": 3,
   "id": "0019bf15",
   "metadata": {},
   "outputs": [],
   "source": [
    "inf = pd.read_csv(r'C:\\Users\\stanl\\OneDrive\\Documents\\Graduate School\\Regis_Practicum_1\\Historic Inflation Rate.csv')"
   ]
  },
  {
   "cell_type": "markdown",
   "id": "853af10e",
   "metadata": {},
   "source": [
    "Preview the data for what must be addressed. We see a percentage sign which could easily be a string object. Check with .info()"
   ]
  },
  {
   "cell_type": "code",
   "execution_count": 5,
   "id": "e6f59c77",
   "metadata": {},
   "outputs": [
    {
     "data": {
      "text/html": [
       "<div>\n",
       "<style scoped>\n",
       "    .dataframe tbody tr th:only-of-type {\n",
       "        vertical-align: middle;\n",
       "    }\n",
       "\n",
       "    .dataframe tbody tr th {\n",
       "        vertical-align: top;\n",
       "    }\n",
       "\n",
       "    .dataframe thead th {\n",
       "        text-align: right;\n",
       "    }\n",
       "</style>\n",
       "<table border=\"1\" class=\"dataframe\">\n",
       "  <thead>\n",
       "    <tr style=\"text-align: right;\">\n",
       "      <th></th>\n",
       "      <th>Date</th>\n",
       "      <th>Inflation</th>\n",
       "    </tr>\n",
       "  </thead>\n",
       "  <tbody>\n",
       "    <tr>\n",
       "      <th>0</th>\n",
       "      <td>1990-01-01</td>\n",
       "      <td>1.03%</td>\n",
       "    </tr>\n",
       "    <tr>\n",
       "      <th>1</th>\n",
       "      <td>1990-02-01</td>\n",
       "      <td>0.47%</td>\n",
       "    </tr>\n",
       "    <tr>\n",
       "      <th>2</th>\n",
       "      <td>1990-03-01</td>\n",
       "      <td>0.55%</td>\n",
       "    </tr>\n",
       "    <tr>\n",
       "      <th>3</th>\n",
       "      <td>1990-04-01</td>\n",
       "      <td>0.16%</td>\n",
       "    </tr>\n",
       "    <tr>\n",
       "      <th>4</th>\n",
       "      <td>1990-05-01</td>\n",
       "      <td>0.23%</td>\n",
       "    </tr>\n",
       "  </tbody>\n",
       "</table>\n",
       "</div>"
      ],
      "text/plain": [
       "         Date Inflation\n",
       "0  1990-01-01     1.03%\n",
       "1  1990-02-01     0.47%\n",
       "2  1990-03-01     0.55%\n",
       "3  1990-04-01     0.16%\n",
       "4  1990-05-01     0.23%"
      ]
     },
     "execution_count": 5,
     "metadata": {},
     "output_type": "execute_result"
    }
   ],
   "source": [
    "inf.head()"
   ]
  },
  {
   "cell_type": "code",
   "execution_count": 6,
   "id": "c2bf4242",
   "metadata": {},
   "outputs": [
    {
     "name": "stdout",
     "output_type": "stream",
     "text": [
      "<class 'pandas.core.frame.DataFrame'>\n",
      "RangeIndex: 384 entries, 0 to 383\n",
      "Data columns (total 2 columns):\n",
      " #   Column     Non-Null Count  Dtype \n",
      "---  ------     --------------  ----- \n",
      " 0   Date       384 non-null    object\n",
      " 1   Inflation  381 non-null    object\n",
      "dtypes: object(2)\n",
      "memory usage: 6.1+ KB\n"
     ]
    }
   ],
   "source": [
    "inf.info()"
   ]
  },
  {
   "cell_type": "markdown",
   "id": "8b9256af",
   "metadata": {},
   "source": [
    "Date and Inflation are string objects. Address with to_datetime and astype with strip of the '%'"
   ]
  },
  {
   "cell_type": "code",
   "execution_count": 7,
   "id": "0e63acf2",
   "metadata": {},
   "outputs": [],
   "source": [
    "inf['Date'] = pd.to_datetime(inf['Date'])"
   ]
  },
  {
   "cell_type": "code",
   "execution_count": 8,
   "id": "ca48647a",
   "metadata": {},
   "outputs": [
    {
     "name": "stdout",
     "output_type": "stream",
     "text": [
      "<class 'pandas.core.frame.DataFrame'>\n",
      "RangeIndex: 384 entries, 0 to 383\n",
      "Data columns (total 2 columns):\n",
      " #   Column     Non-Null Count  Dtype         \n",
      "---  ------     --------------  -----         \n",
      " 0   Date       384 non-null    datetime64[ns]\n",
      " 1   Inflation  381 non-null    object        \n",
      "dtypes: datetime64[ns](1), object(1)\n",
      "memory usage: 6.1+ KB\n"
     ]
    }
   ],
   "source": [
    "inf.info()"
   ]
  },
  {
   "cell_type": "code",
   "execution_count": 9,
   "id": "9e37f9b7",
   "metadata": {},
   "outputs": [],
   "source": [
    "inf['Inflation'] = inf['Inflation'].str.strip('%')"
   ]
  },
  {
   "cell_type": "code",
   "execution_count": 10,
   "id": "9ea0be7a",
   "metadata": {},
   "outputs": [],
   "source": [
    "inf['Inflation'] = inf['Inflation'].astype(float)"
   ]
  },
  {
   "cell_type": "code",
   "execution_count": 11,
   "id": "47ddc865",
   "metadata": {},
   "outputs": [
    {
     "name": "stdout",
     "output_type": "stream",
     "text": [
      "<class 'pandas.core.frame.DataFrame'>\n",
      "RangeIndex: 384 entries, 0 to 383\n",
      "Data columns (total 2 columns):\n",
      " #   Column     Non-Null Count  Dtype         \n",
      "---  ------     --------------  -----         \n",
      " 0   Date       384 non-null    datetime64[ns]\n",
      " 1   Inflation  381 non-null    float64       \n",
      "dtypes: datetime64[ns](1), float64(1)\n",
      "memory usage: 6.1 KB\n"
     ]
    }
   ],
   "source": [
    "inf.info()"
   ]
  },
  {
   "cell_type": "markdown",
   "id": "80219d8f",
   "metadata": {},
   "source": [
    "We can now load this dataset back to a CSV to be joined in the later dataset. "
   ]
  },
  {
   "cell_type": "code",
   "execution_count": 20,
   "id": "0228ceb9",
   "metadata": {},
   "outputs": [],
   "source": [
    "inf.to_csv('historic_inflation.csv')"
   ]
  }
 ],
 "metadata": {
  "kernelspec": {
   "display_name": "Python 3",
   "language": "python",
   "name": "python3"
  },
  "language_info": {
   "codemirror_mode": {
    "name": "ipython",
    "version": 3
   },
   "file_extension": ".py",
   "mimetype": "text/x-python",
   "name": "python",
   "nbconvert_exporter": "python",
   "pygments_lexer": "ipython3",
   "version": "3.8.11"
  }
 },
 "nbformat": 4,
 "nbformat_minor": 5
}

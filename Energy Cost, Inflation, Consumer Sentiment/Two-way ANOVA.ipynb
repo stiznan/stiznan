{
 "cells": [
  {
   "cell_type": "markdown",
   "id": "a57ec60b",
   "metadata": {},
   "source": [
    "# Two-Way Anova Analysis \n",
    "\n",
    "For this two-way ANOVA we will be using a dependent variable of consumer sentiment value using University of Michigan Consumer Sentiment Index (monthly) averaged with University of Florida's Sentiment Index survey. The independent catergorical variables are created from features engineered from inflation (annual low, medium, and high) and gas prices (annual low, medium. high). "
   ]
  },
  {
   "cell_type": "code",
   "execution_count": 1,
   "id": "6414641d",
   "metadata": {},
   "outputs": [],
   "source": [
    "import statsmodels.api as sm\n",
    "from statsmodels.formula.api import ols\n",
    "from statsmodels.stats.anova import anova_lm\n",
    "from statsmodels.graphics.factorplots import interaction_plot\n",
    "from statsmodels.stats.multicomp import pairwise_tukeyhsd\n",
    "from statsmodels.stats.multicomp import MultiComparison\n",
    "from sklearn.preprocessing import MinMaxScaler\n",
    "import numpy as np\n",
    "import matplotlib.pyplot as plt\n",
    "import scipy.stats as stats\n",
    "from scipy.stats import shapiro\n",
    "import pandas as pd\n",
    "import pylab"
   ]
  },
  {
   "cell_type": "markdown",
   "id": "0b3b4b2b",
   "metadata": {},
   "source": [
    "### Loading the dataset exported from our previous review"
   ]
  },
  {
   "cell_type": "code",
   "execution_count": 2,
   "id": "f92e2316",
   "metadata": {},
   "outputs": [
    {
     "data": {
      "text/html": [
       "<div>\n",
       "<style scoped>\n",
       "    .dataframe tbody tr th:only-of-type {\n",
       "        vertical-align: middle;\n",
       "    }\n",
       "\n",
       "    .dataframe tbody tr th {\n",
       "        vertical-align: top;\n",
       "    }\n",
       "\n",
       "    .dataframe thead th {\n",
       "        text-align: right;\n",
       "    }\n",
       "</style>\n",
       "<table border=\"1\" class=\"dataframe\">\n",
       "  <thead>\n",
       "    <tr style=\"text-align: right;\">\n",
       "      <th></th>\n",
       "      <th>Date</th>\n",
       "      <th>sentiment</th>\n",
       "      <th>Resi_Gas</th>\n",
       "      <th>Elect_Price</th>\n",
       "      <th>Bacon Original Data Value</th>\n",
       "      <th>Bacon 1-Month Percent Change</th>\n",
       "      <th>Bacon 3-Month Percent Change</th>\n",
       "      <th>Bacon 12-Month Percent Change</th>\n",
       "      <th>Bananas Original Data Value</th>\n",
       "      <th>Bananas 1-Month Percent Change</th>\n",
       "      <th>...</th>\n",
       "      <th>Fuel_Oil_#2 12-Month Percent Change</th>\n",
       "      <th>Gasoline_all_types Original Data Value</th>\n",
       "      <th>Gasoline_all_types 1-Month Percent Change</th>\n",
       "      <th>Gasoline_all_types 3-Month Percent Change</th>\n",
       "      <th>Gasoline_all_types 12-Month Percent Change</th>\n",
       "      <th>Gasoline_unleaded Original Data Value</th>\n",
       "      <th>Gasoline_unleaded 1-Month Percent Change</th>\n",
       "      <th>Gasoline_unleaded 3-Month Percent Change</th>\n",
       "      <th>Gasoline_unleaded 12-Month Percent Change</th>\n",
       "      <th>Inflation</th>\n",
       "    </tr>\n",
       "  </thead>\n",
       "  <tbody>\n",
       "    <tr>\n",
       "      <th>0</th>\n",
       "      <td>2001-01-01</td>\n",
       "      <td>94.00</td>\n",
       "      <td>10.12</td>\n",
       "      <td>7.73</td>\n",
       "      <td>2.994</td>\n",
       "      <td>-1.1</td>\n",
       "      <td>-2.4</td>\n",
       "      <td>8.9</td>\n",
       "      <td>0.500</td>\n",
       "      <td>2.7</td>\n",
       "      <td>...</td>\n",
       "      <td>26.9</td>\n",
       "      <td>1.525</td>\n",
       "      <td>-1.2</td>\n",
       "      <td>-5.5</td>\n",
       "      <td>12.5</td>\n",
       "      <td>1.472</td>\n",
       "      <td>-1.1</td>\n",
       "      <td>-5.6</td>\n",
       "      <td>13.1</td>\n",
       "      <td>0.63</td>\n",
       "    </tr>\n",
       "    <tr>\n",
       "      <th>1</th>\n",
       "      <td>2001-02-01</td>\n",
       "      <td>91.30</td>\n",
       "      <td>10.26</td>\n",
       "      <td>8.04</td>\n",
       "      <td>3.065</td>\n",
       "      <td>2.4</td>\n",
       "      <td>0.4</td>\n",
       "      <td>6.8</td>\n",
       "      <td>0.496</td>\n",
       "      <td>-0.8</td>\n",
       "      <td>...</td>\n",
       "      <td>-9.4</td>\n",
       "      <td>1.538</td>\n",
       "      <td>0.9</td>\n",
       "      <td>-4.4</td>\n",
       "      <td>8.2</td>\n",
       "      <td>1.484</td>\n",
       "      <td>0.8</td>\n",
       "      <td>-4.6</td>\n",
       "      <td>8.4</td>\n",
       "      <td>0.40</td>\n",
       "    </tr>\n",
       "    <tr>\n",
       "      <th>2</th>\n",
       "      <td>2001-03-01</td>\n",
       "      <td>92.80</td>\n",
       "      <td>9.85</td>\n",
       "      <td>8.32</td>\n",
       "      <td>3.159</td>\n",
       "      <td>3.1</td>\n",
       "      <td>4.3</td>\n",
       "      <td>7.9</td>\n",
       "      <td>0.510</td>\n",
       "      <td>2.8</td>\n",
       "      <td>...</td>\n",
       "      <td>2.6</td>\n",
       "      <td>1.503</td>\n",
       "      <td>-2.3</td>\n",
       "      <td>-2.7</td>\n",
       "      <td>-5.7</td>\n",
       "      <td>1.447</td>\n",
       "      <td>-2.5</td>\n",
       "      <td>-2.8</td>\n",
       "      <td>-6.1</td>\n",
       "      <td>0.23</td>\n",
       "    </tr>\n",
       "    <tr>\n",
       "      <th>3</th>\n",
       "      <td>2001-04-01</td>\n",
       "      <td>89.65</td>\n",
       "      <td>10.16</td>\n",
       "      <td>8.46</td>\n",
       "      <td>3.114</td>\n",
       "      <td>-1.4</td>\n",
       "      <td>4.0</td>\n",
       "      <td>5.5</td>\n",
       "      <td>0.492</td>\n",
       "      <td>-3.5</td>\n",
       "      <td>...</td>\n",
       "      <td>6.3</td>\n",
       "      <td>1.617</td>\n",
       "      <td>7.6</td>\n",
       "      <td>6.0</td>\n",
       "      <td>3.6</td>\n",
       "      <td>1.564</td>\n",
       "      <td>8.1</td>\n",
       "      <td>6.3</td>\n",
       "      <td>3.9</td>\n",
       "      <td>0.40</td>\n",
       "    </tr>\n",
       "    <tr>\n",
       "      <th>4</th>\n",
       "      <td>2001-05-01</td>\n",
       "      <td>91.80</td>\n",
       "      <td>11.14</td>\n",
       "      <td>8.83</td>\n",
       "      <td>3.256</td>\n",
       "      <td>4.6</td>\n",
       "      <td>6.2</td>\n",
       "      <td>8.3</td>\n",
       "      <td>0.509</td>\n",
       "      <td>3.5</td>\n",
       "      <td>...</td>\n",
       "      <td>6.3</td>\n",
       "      <td>1.812</td>\n",
       "      <td>12.1</td>\n",
       "      <td>17.8</td>\n",
       "      <td>16.8</td>\n",
       "      <td>1.729</td>\n",
       "      <td>10.5</td>\n",
       "      <td>16.5</td>\n",
       "      <td>15.4</td>\n",
       "      <td>0.45</td>\n",
       "    </tr>\n",
       "  </tbody>\n",
       "</table>\n",
       "<p>5 rows × 65 columns</p>\n",
       "</div>"
      ],
      "text/plain": [
       "         Date  sentiment  Resi_Gas  Elect_Price  Bacon Original Data Value  \\\n",
       "0  2001-01-01      94.00     10.12         7.73                      2.994   \n",
       "1  2001-02-01      91.30     10.26         8.04                      3.065   \n",
       "2  2001-03-01      92.80      9.85         8.32                      3.159   \n",
       "3  2001-04-01      89.65     10.16         8.46                      3.114   \n",
       "4  2001-05-01      91.80     11.14         8.83                      3.256   \n",
       "\n",
       "   Bacon 1-Month Percent Change  Bacon 3-Month Percent Change  \\\n",
       "0                          -1.1                          -2.4   \n",
       "1                           2.4                           0.4   \n",
       "2                           3.1                           4.3   \n",
       "3                          -1.4                           4.0   \n",
       "4                           4.6                           6.2   \n",
       "\n",
       "   Bacon 12-Month Percent Change  Bananas Original Data Value  \\\n",
       "0                            8.9                        0.500   \n",
       "1                            6.8                        0.496   \n",
       "2                            7.9                        0.510   \n",
       "3                            5.5                        0.492   \n",
       "4                            8.3                        0.509   \n",
       "\n",
       "   Bananas 1-Month Percent Change  ...  Fuel_Oil_#2 12-Month Percent Change  \\\n",
       "0                             2.7  ...                                 26.9   \n",
       "1                            -0.8  ...                                 -9.4   \n",
       "2                             2.8  ...                                  2.6   \n",
       "3                            -3.5  ...                                  6.3   \n",
       "4                             3.5  ...                                  6.3   \n",
       "\n",
       "   Gasoline_all_types Original Data Value  \\\n",
       "0                                   1.525   \n",
       "1                                   1.538   \n",
       "2                                   1.503   \n",
       "3                                   1.617   \n",
       "4                                   1.812   \n",
       "\n",
       "   Gasoline_all_types 1-Month Percent Change  \\\n",
       "0                                       -1.2   \n",
       "1                                        0.9   \n",
       "2                                       -2.3   \n",
       "3                                        7.6   \n",
       "4                                       12.1   \n",
       "\n",
       "   Gasoline_all_types 3-Month Percent Change  \\\n",
       "0                                       -5.5   \n",
       "1                                       -4.4   \n",
       "2                                       -2.7   \n",
       "3                                        6.0   \n",
       "4                                       17.8   \n",
       "\n",
       "   Gasoline_all_types 12-Month Percent Change  \\\n",
       "0                                        12.5   \n",
       "1                                         8.2   \n",
       "2                                        -5.7   \n",
       "3                                         3.6   \n",
       "4                                        16.8   \n",
       "\n",
       "   Gasoline_unleaded Original Data Value  \\\n",
       "0                                  1.472   \n",
       "1                                  1.484   \n",
       "2                                  1.447   \n",
       "3                                  1.564   \n",
       "4                                  1.729   \n",
       "\n",
       "   Gasoline_unleaded 1-Month Percent Change  \\\n",
       "0                                      -1.1   \n",
       "1                                       0.8   \n",
       "2                                      -2.5   \n",
       "3                                       8.1   \n",
       "4                                      10.5   \n",
       "\n",
       "   Gasoline_unleaded 3-Month Percent Change  \\\n",
       "0                                      -5.6   \n",
       "1                                      -4.6   \n",
       "2                                      -2.8   \n",
       "3                                       6.3   \n",
       "4                                      16.5   \n",
       "\n",
       "   Gasoline_unleaded 12-Month Percent Change  Inflation  \n",
       "0                                       13.1       0.63  \n",
       "1                                        8.4       0.40  \n",
       "2                                       -6.1       0.23  \n",
       "3                                        3.9       0.40  \n",
       "4                                       15.4       0.45  \n",
       "\n",
       "[5 rows x 65 columns]"
      ]
     },
     "execution_count": 2,
     "metadata": {},
     "output_type": "execute_result"
    }
   ],
   "source": [
    "tw = pd.read_csv('two_way_anova.csv')\n",
    "tw.head()"
   ]
  },
  {
   "cell_type": "markdown",
   "id": "7681e3f8",
   "metadata": {},
   "source": [
    "We will subset the columns in question:\n",
    "- Sentiment\n",
    "- Inflation\n",
    "- Gasoline Unleaded "
   ]
  },
  {
   "cell_type": "code",
   "execution_count": 3,
   "id": "9c075721",
   "metadata": {},
   "outputs": [],
   "source": [
    "tw = pd.DataFrame(data=tw, columns=[\"sentiment\", \"Inflation\",\"Gasoline_unleaded Original Data Value\"])"
   ]
  },
  {
   "cell_type": "code",
   "execution_count": 4,
   "id": "3a7a48fa",
   "metadata": {},
   "outputs": [
    {
     "data": {
      "text/html": [
       "<div>\n",
       "<style scoped>\n",
       "    .dataframe tbody tr th:only-of-type {\n",
       "        vertical-align: middle;\n",
       "    }\n",
       "\n",
       "    .dataframe tbody tr th {\n",
       "        vertical-align: top;\n",
       "    }\n",
       "\n",
       "    .dataframe thead th {\n",
       "        text-align: right;\n",
       "    }\n",
       "</style>\n",
       "<table border=\"1\" class=\"dataframe\">\n",
       "  <thead>\n",
       "    <tr style=\"text-align: right;\">\n",
       "      <th></th>\n",
       "      <th>sentiment</th>\n",
       "      <th>Inflation</th>\n",
       "      <th>Gasoline_unleaded Original Data Value</th>\n",
       "    </tr>\n",
       "  </thead>\n",
       "  <tbody>\n",
       "    <tr>\n",
       "      <th>0</th>\n",
       "      <td>94.00</td>\n",
       "      <td>0.63</td>\n",
       "      <td>1.472</td>\n",
       "    </tr>\n",
       "    <tr>\n",
       "      <th>1</th>\n",
       "      <td>91.30</td>\n",
       "      <td>0.40</td>\n",
       "      <td>1.484</td>\n",
       "    </tr>\n",
       "    <tr>\n",
       "      <th>2</th>\n",
       "      <td>92.80</td>\n",
       "      <td>0.23</td>\n",
       "      <td>1.447</td>\n",
       "    </tr>\n",
       "    <tr>\n",
       "      <th>3</th>\n",
       "      <td>89.65</td>\n",
       "      <td>0.40</td>\n",
       "      <td>1.564</td>\n",
       "    </tr>\n",
       "    <tr>\n",
       "      <th>4</th>\n",
       "      <td>91.80</td>\n",
       "      <td>0.45</td>\n",
       "      <td>1.729</td>\n",
       "    </tr>\n",
       "  </tbody>\n",
       "</table>\n",
       "</div>"
      ],
      "text/plain": [
       "   sentiment  Inflation  Gasoline_unleaded Original Data Value\n",
       "0      94.00       0.63                                  1.472\n",
       "1      91.30       0.40                                  1.484\n",
       "2      92.80       0.23                                  1.447\n",
       "3      89.65       0.40                                  1.564\n",
       "4      91.80       0.45                                  1.729"
      ]
     },
     "execution_count": 4,
     "metadata": {},
     "output_type": "execute_result"
    }
   ],
   "source": [
    "tw.head()"
   ]
  },
  {
   "cell_type": "markdown",
   "id": "dd36f57f",
   "metadata": {},
   "source": [
    "Rename Gasoline for ease of use and reading"
   ]
  },
  {
   "cell_type": "code",
   "execution_count": 5,
   "id": "409e1b5d",
   "metadata": {},
   "outputs": [
    {
     "data": {
      "text/html": [
       "<div>\n",
       "<style scoped>\n",
       "    .dataframe tbody tr th:only-of-type {\n",
       "        vertical-align: middle;\n",
       "    }\n",
       "\n",
       "    .dataframe tbody tr th {\n",
       "        vertical-align: top;\n",
       "    }\n",
       "\n",
       "    .dataframe thead th {\n",
       "        text-align: right;\n",
       "    }\n",
       "</style>\n",
       "<table border=\"1\" class=\"dataframe\">\n",
       "  <thead>\n",
       "    <tr style=\"text-align: right;\">\n",
       "      <th></th>\n",
       "      <th>sentiment</th>\n",
       "      <th>Inflation</th>\n",
       "      <th>Gas_Price</th>\n",
       "    </tr>\n",
       "  </thead>\n",
       "  <tbody>\n",
       "    <tr>\n",
       "      <th>0</th>\n",
       "      <td>94.00</td>\n",
       "      <td>0.63</td>\n",
       "      <td>1.472</td>\n",
       "    </tr>\n",
       "    <tr>\n",
       "      <th>1</th>\n",
       "      <td>91.30</td>\n",
       "      <td>0.40</td>\n",
       "      <td>1.484</td>\n",
       "    </tr>\n",
       "    <tr>\n",
       "      <th>2</th>\n",
       "      <td>92.80</td>\n",
       "      <td>0.23</td>\n",
       "      <td>1.447</td>\n",
       "    </tr>\n",
       "    <tr>\n",
       "      <th>3</th>\n",
       "      <td>89.65</td>\n",
       "      <td>0.40</td>\n",
       "      <td>1.564</td>\n",
       "    </tr>\n",
       "    <tr>\n",
       "      <th>4</th>\n",
       "      <td>91.80</td>\n",
       "      <td>0.45</td>\n",
       "      <td>1.729</td>\n",
       "    </tr>\n",
       "  </tbody>\n",
       "</table>\n",
       "</div>"
      ],
      "text/plain": [
       "   sentiment  Inflation  Gas_Price\n",
       "0      94.00       0.63      1.472\n",
       "1      91.30       0.40      1.484\n",
       "2      92.80       0.23      1.447\n",
       "3      89.65       0.40      1.564\n",
       "4      91.80       0.45      1.729"
      ]
     },
     "execution_count": 5,
     "metadata": {},
     "output_type": "execute_result"
    }
   ],
   "source": [
    "tw.rename(columns = {'Gasoline_unleaded Original Data Value':'Gas_Price'}, inplace = True)\n",
    "tw.head()"
   ]
  },
  {
   "cell_type": "markdown",
   "id": "e15fc66c",
   "metadata": {},
   "source": [
    "Confirm the change and review central tendency metrics."
   ]
  },
  {
   "cell_type": "code",
   "execution_count": 6,
   "id": "f431d876",
   "metadata": {},
   "outputs": [
    {
     "data": {
      "text/html": [
       "<div>\n",
       "<style scoped>\n",
       "    .dataframe tbody tr th:only-of-type {\n",
       "        vertical-align: middle;\n",
       "    }\n",
       "\n",
       "    .dataframe tbody tr th {\n",
       "        vertical-align: top;\n",
       "    }\n",
       "\n",
       "    .dataframe thead th {\n",
       "        text-align: right;\n",
       "    }\n",
       "</style>\n",
       "<table border=\"1\" class=\"dataframe\">\n",
       "  <thead>\n",
       "    <tr style=\"text-align: right;\">\n",
       "      <th></th>\n",
       "      <th>sentiment</th>\n",
       "      <th>Inflation</th>\n",
       "      <th>Gas_Price</th>\n",
       "    </tr>\n",
       "  </thead>\n",
       "  <tbody>\n",
       "    <tr>\n",
       "      <th>count</th>\n",
       "      <td>248.000000</td>\n",
       "      <td>248.000000</td>\n",
       "      <td>248.000000</td>\n",
       "    </tr>\n",
       "    <tr>\n",
       "      <th>mean</th>\n",
       "      <td>84.487702</td>\n",
       "      <td>0.183548</td>\n",
       "      <td>2.560032</td>\n",
       "    </tr>\n",
       "    <tr>\n",
       "      <th>std</th>\n",
       "      <td>10.887387</td>\n",
       "      <td>0.380525</td>\n",
       "      <td>0.709499</td>\n",
       "    </tr>\n",
       "    <tr>\n",
       "      <th>min</th>\n",
       "      <td>57.600000</td>\n",
       "      <td>-1.920000</td>\n",
       "      <td>1.130000</td>\n",
       "    </tr>\n",
       "    <tr>\n",
       "      <th>25%</th>\n",
       "      <td>76.087500</td>\n",
       "      <td>-0.040000</td>\n",
       "      <td>2.073250</td>\n",
       "    </tr>\n",
       "    <tr>\n",
       "      <th>50%</th>\n",
       "      <td>86.775000</td>\n",
       "      <td>0.190000</td>\n",
       "      <td>2.562500</td>\n",
       "    </tr>\n",
       "    <tr>\n",
       "      <th>75%</th>\n",
       "      <td>93.575000</td>\n",
       "      <td>0.442500</td>\n",
       "      <td>3.023250</td>\n",
       "    </tr>\n",
       "    <tr>\n",
       "      <th>max</th>\n",
       "      <td>101.650000</td>\n",
       "      <td>1.220000</td>\n",
       "      <td>4.090000</td>\n",
       "    </tr>\n",
       "  </tbody>\n",
       "</table>\n",
       "</div>"
      ],
      "text/plain": [
       "        sentiment   Inflation   Gas_Price\n",
       "count  248.000000  248.000000  248.000000\n",
       "mean    84.487702    0.183548    2.560032\n",
       "std     10.887387    0.380525    0.709499\n",
       "min     57.600000   -1.920000    1.130000\n",
       "25%     76.087500   -0.040000    2.073250\n",
       "50%     86.775000    0.190000    2.562500\n",
       "75%     93.575000    0.442500    3.023250\n",
       "max    101.650000    1.220000    4.090000"
      ]
     },
     "execution_count": 6,
     "metadata": {},
     "output_type": "execute_result"
    }
   ],
   "source": [
    "tw.describe()"
   ]
  },
  {
   "cell_type": "markdown",
   "id": "2d29cce5",
   "metadata": {},
   "source": [
    "From the describe function we can see that the standard deviation of sentiment is 10. We will do a quick check of normailty as this is a prerequisite of parametric tests. "
   ]
  },
  {
   "cell_type": "code",
   "execution_count": 7,
   "id": "ee75ca03",
   "metadata": {},
   "outputs": [
    {
     "data": {
      "image/png": "[encoded data removed]",
      "text/plain": [
       "<Figure size 432x288 with 1 Axes>"
      ]
     },
     "metadata": {
      "needs_background": "light"
     },
     "output_type": "display_data"
    }
   ],
   "source": [
    "stats.probplot(tw['sentiment'], dist=\"norm\", plot=pylab)\n",
    "pylab.show()"
   ]
  },
  {
   "cell_type": "markdown",
   "id": "5bf50fb1",
   "metadata": {},
   "source": [
    "### Normalize the dependent variable (sentiment)"
   ]
  },
  {
   "cell_type": "code",
   "execution_count": 8,
   "id": "63d088f2",
   "metadata": {},
   "outputs": [
    {
     "data": {
      "text/plain": [
       "ShapiroResult(statistic=0.9452000260353088, pvalue=5.065351160737919e-08)"
      ]
     },
     "execution_count": 8,
     "metadata": {},
     "output_type": "execute_result"
    }
   ],
   "source": [
    "shapiro(tw['sentiment'])\n"
   ]
  },
  {
   "cell_type": "markdown",
   "id": "c8d3aba9",
   "metadata": {},
   "source": [
    "We can see from the P-value of the Shapiro test that sentiment is not normal. "
   ]
  },
  {
   "cell_type": "markdown",
   "id": "83d39954",
   "metadata": {},
   "source": [
    "Normalize the data using a log transformation."
   ]
  },
  {
   "cell_type": "code",
   "execution_count": 9,
   "id": "1dd512c7",
   "metadata": {},
   "outputs": [],
   "source": [
    "# tw['sentiment'] = np.log(tw['sentiment'])"
   ]
  },
  {
   "cell_type": "code",
   "execution_count": 10,
   "id": "3bb9ce14",
   "metadata": {},
   "outputs": [
    {
     "data": {
      "text/html": [
       "<div>\n",
       "<style scoped>\n",
       "    .dataframe tbody tr th:only-of-type {\n",
       "        vertical-align: middle;\n",
       "    }\n",
       "\n",
       "    .dataframe tbody tr th {\n",
       "        vertical-align: top;\n",
       "    }\n",
       "\n",
       "    .dataframe thead th {\n",
       "        text-align: right;\n",
       "    }\n",
       "</style>\n",
       "<table border=\"1\" class=\"dataframe\">\n",
       "  <thead>\n",
       "    <tr style=\"text-align: right;\">\n",
       "      <th></th>\n",
       "      <th>sentiment</th>\n",
       "      <th>Inflation</th>\n",
       "      <th>Gas_Price</th>\n",
       "    </tr>\n",
       "  </thead>\n",
       "  <tbody>\n",
       "    <tr>\n",
       "      <th>count</th>\n",
       "      <td>248.000000</td>\n",
       "      <td>248.000000</td>\n",
       "      <td>248.000000</td>\n",
       "    </tr>\n",
       "    <tr>\n",
       "      <th>mean</th>\n",
       "      <td>84.487702</td>\n",
       "      <td>0.183548</td>\n",
       "      <td>2.560032</td>\n",
       "    </tr>\n",
       "    <tr>\n",
       "      <th>std</th>\n",
       "      <td>10.887387</td>\n",
       "      <td>0.380525</td>\n",
       "      <td>0.709499</td>\n",
       "    </tr>\n",
       "    <tr>\n",
       "      <th>min</th>\n",
       "      <td>57.600000</td>\n",
       "      <td>-1.920000</td>\n",
       "      <td>1.130000</td>\n",
       "    </tr>\n",
       "    <tr>\n",
       "      <th>25%</th>\n",
       "      <td>76.087500</td>\n",
       "      <td>-0.040000</td>\n",
       "      <td>2.073250</td>\n",
       "    </tr>\n",
       "    <tr>\n",
       "      <th>50%</th>\n",
       "      <td>86.775000</td>\n",
       "      <td>0.190000</td>\n",
       "      <td>2.562500</td>\n",
       "    </tr>\n",
       "    <tr>\n",
       "      <th>75%</th>\n",
       "      <td>93.575000</td>\n",
       "      <td>0.442500</td>\n",
       "      <td>3.023250</td>\n",
       "    </tr>\n",
       "    <tr>\n",
       "      <th>max</th>\n",
       "      <td>101.650000</td>\n",
       "      <td>1.220000</td>\n",
       "      <td>4.090000</td>\n",
       "    </tr>\n",
       "  </tbody>\n",
       "</table>\n",
       "</div>"
      ],
      "text/plain": [
       "        sentiment   Inflation   Gas_Price\n",
       "count  248.000000  248.000000  248.000000\n",
       "mean    84.487702    0.183548    2.560032\n",
       "std     10.887387    0.380525    0.709499\n",
       "min     57.600000   -1.920000    1.130000\n",
       "25%     76.087500   -0.040000    2.073250\n",
       "50%     86.775000    0.190000    2.562500\n",
       "75%     93.575000    0.442500    3.023250\n",
       "max    101.650000    1.220000    4.090000"
      ]
     },
     "execution_count": 10,
     "metadata": {},
     "output_type": "execute_result"
    }
   ],
   "source": [
    "tw.describe()"
   ]
  },
  {
   "cell_type": "code",
   "execution_count": 11,
   "id": "d2201d94",
   "metadata": {},
   "outputs": [
    {
     "data": {
      "text/plain": [
       "<AxesSubplot:>"
      ]
     },
     "execution_count": 11,
     "metadata": {},
     "output_type": "execute_result"
    },
    {
     "data": {
      "image/png": "[encoded data removed]",
      "text/plain": [
       "<Figure size 432x288 with 1 Axes>"
      ]
     },
     "metadata": {
      "needs_background": "light"
     },
     "output_type": "display_data"
    }
   ],
   "source": [
    "tw['sentiment'].hist()"
   ]
  },
  {
   "cell_type": "markdown",
   "id": "cd54a76e",
   "metadata": {},
   "source": [
    "### Levene's Test: Homogeneity of Variances"
   ]
  },
  {
   "cell_type": "code",
   "execution_count": 12,
   "id": "c82d0338",
   "metadata": {},
   "outputs": [
    {
     "data": {
      "text/plain": [
       "LeveneResult(statistic=661.0854241193047, pvalue=3.574659357964873e-159)"
      ]
     },
     "execution_count": 12,
     "metadata": {},
     "output_type": "execute_result"
    }
   ],
   "source": [
    "stats.levene(tw['sentiment'],tw['Inflation'],tw['Gas_Price'], center='trimmed') "
   ]
  },
  {
   "cell_type": "markdown",
   "id": "ad1df7d7",
   "metadata": {},
   "source": []
  },
  {
   "cell_type": "code",
   "execution_count": 13,
   "id": "0234949b",
   "metadata": {},
   "outputs": [],
   "source": [
    "# category = pd.cut(tw.Inflation,bins=[0,2.073249,2.560031,4.09],labels=['Low','Medium','High'])\n",
    "# tw.insert(3,'inflation',category)\n",
    "\n",
    "def cg(x, high, low):\n",
    "    if x > high:\n",
    "        return('high')\n",
    "    if x > low:\n",
    "        return('medium')\n",
    "    return ('low')"
   ]
  },
  {
   "cell_type": "code",
   "execution_count": 14,
   "id": "155e1c25",
   "metadata": {},
   "outputs": [],
   "source": [
    "tw['Inflation'] = tw['Inflation'].apply(cg, args = [0.442500, -0.04])\n",
    "tw['Gas_Price'] = tw['Gas_Price'].apply(cg, args = [3.023, 2.073250])"
   ]
  },
  {
   "cell_type": "code",
   "execution_count": 15,
   "id": "8783310a",
   "metadata": {},
   "outputs": [
    {
     "data": {
      "text/plain": [
       "medium    0.491935\n",
       "low       0.258065\n",
       "high      0.250000\n",
       "Name: Inflation, dtype: float64"
      ]
     },
     "execution_count": 15,
     "metadata": {},
     "output_type": "execute_result"
    }
   ],
   "source": [
    "tw['Inflation'].value_counts(normalize=True)"
   ]
  },
  {
   "cell_type": "code",
   "execution_count": 16,
   "id": "a9e62b7e",
   "metadata": {},
   "outputs": [
    {
     "data": {
      "text/plain": [
       "medium    0.50\n",
       "low       0.25\n",
       "high      0.25\n",
       "Name: Gas_Price, dtype: float64"
      ]
     },
     "execution_count": 16,
     "metadata": {},
     "output_type": "execute_result"
    }
   ],
   "source": [
    "tw['Gas_Price'].value_counts(normalize=True)"
   ]
  },
  {
   "cell_type": "code",
   "execution_count": 17,
   "id": "67a98588",
   "metadata": {},
   "outputs": [
    {
     "data": {
      "text/html": [
       "<div>\n",
       "<style scoped>\n",
       "    .dataframe tbody tr th:only-of-type {\n",
       "        vertical-align: middle;\n",
       "    }\n",
       "\n",
       "    .dataframe tbody tr th {\n",
       "        vertical-align: top;\n",
       "    }\n",
       "\n",
       "    .dataframe thead th {\n",
       "        text-align: right;\n",
       "    }\n",
       "</style>\n",
       "<table border=\"1\" class=\"dataframe\">\n",
       "  <thead>\n",
       "    <tr style=\"text-align: right;\">\n",
       "      <th></th>\n",
       "      <th>sentiment</th>\n",
       "      <th>Inflation</th>\n",
       "      <th>Gas_Price</th>\n",
       "    </tr>\n",
       "  </thead>\n",
       "  <tbody>\n",
       "    <tr>\n",
       "      <th>0</th>\n",
       "      <td>94.00</td>\n",
       "      <td>high</td>\n",
       "      <td>low</td>\n",
       "    </tr>\n",
       "    <tr>\n",
       "      <th>1</th>\n",
       "      <td>91.30</td>\n",
       "      <td>medium</td>\n",
       "      <td>low</td>\n",
       "    </tr>\n",
       "    <tr>\n",
       "      <th>2</th>\n",
       "      <td>92.80</td>\n",
       "      <td>medium</td>\n",
       "      <td>low</td>\n",
       "    </tr>\n",
       "    <tr>\n",
       "      <th>3</th>\n",
       "      <td>89.65</td>\n",
       "      <td>medium</td>\n",
       "      <td>low</td>\n",
       "    </tr>\n",
       "    <tr>\n",
       "      <th>4</th>\n",
       "      <td>91.80</td>\n",
       "      <td>high</td>\n",
       "      <td>low</td>\n",
       "    </tr>\n",
       "  </tbody>\n",
       "</table>\n",
       "</div>"
      ],
      "text/plain": [
       "   sentiment Inflation Gas_Price\n",
       "0      94.00      high       low\n",
       "1      91.30    medium       low\n",
       "2      92.80    medium       low\n",
       "3      89.65    medium       low\n",
       "4      91.80      high       low"
      ]
     },
     "execution_count": 17,
     "metadata": {},
     "output_type": "execute_result"
    }
   ],
   "source": [
    "tw.head()"
   ]
  },
  {
   "cell_type": "markdown",
   "id": "911aa524",
   "metadata": {},
   "source": [
    "## Two-Way ANOVA Model Creation"
   ]
  },
  {
   "cell_type": "markdown",
   "id": "977675b4",
   "metadata": {},
   "source": [
    "##  Two-way ANOVA with interaction\n",
    "\n",
    "### Testing the following three null hypotheses:\n",
    "\n",
    "- There is no interaction between the Inflation and Gas variables. <br>\n",
    "- The mean response is the same across Inflation. <br>\n",
    "- The mean response is the same across Gas. "
   ]
  },
  {
   "cell_type": "code",
   "execution_count": 18,
   "id": "78e1ae3c",
   "metadata": {},
   "outputs": [],
   "source": [
    "ANOVA = ols('sentiment ~ C(Inflation) + C(Gas_Price) + C(Inflation):(Gas_Price)', data=tw).fit()\n",
    "# lm = ols(ANOVA, tw).fit()\n",
    "# print(anova_lm(lm))"
   ]
  },
  {
   "cell_type": "code",
   "execution_count": 19,
   "id": "32ab6dc9",
   "metadata": {},
   "outputs": [
    {
     "data": {
      "text/html": [
       "<div>\n",
       "<style scoped>\n",
       "    .dataframe tbody tr th:only-of-type {\n",
       "        vertical-align: middle;\n",
       "    }\n",
       "\n",
       "    .dataframe tbody tr th {\n",
       "        vertical-align: top;\n",
       "    }\n",
       "\n",
       "    .dataframe thead th {\n",
       "        text-align: right;\n",
       "    }\n",
       "</style>\n",
       "<table border=\"1\" class=\"dataframe\">\n",
       "  <thead>\n",
       "    <tr style=\"text-align: right;\">\n",
       "      <th></th>\n",
       "      <th>sum_sq</th>\n",
       "      <th>df</th>\n",
       "      <th>F</th>\n",
       "      <th>PR(&gt;F)</th>\n",
       "    </tr>\n",
       "  </thead>\n",
       "  <tbody>\n",
       "    <tr>\n",
       "      <th>C(Inflation)</th>\n",
       "      <td>224.750131</td>\n",
       "      <td>2.0</td>\n",
       "      <td>1.285472</td>\n",
       "      <td>2.784249e-01</td>\n",
       "    </tr>\n",
       "    <tr>\n",
       "      <th>C(Gas_Price)</th>\n",
       "      <td>8129.797768</td>\n",
       "      <td>2.0</td>\n",
       "      <td>46.498864</td>\n",
       "      <td>8.768057e-18</td>\n",
       "    </tr>\n",
       "    <tr>\n",
       "      <th>C(Inflation):Gas_Price</th>\n",
       "      <td>8160.228266</td>\n",
       "      <td>6.0</td>\n",
       "      <td>15.557638</td>\n",
       "      <td>4.661297e-15</td>\n",
       "    </tr>\n",
       "    <tr>\n",
       "      <th>Residual</th>\n",
       "      <td>20893.216593</td>\n",
       "      <td>239.0</td>\n",
       "      <td>NaN</td>\n",
       "      <td>NaN</td>\n",
       "    </tr>\n",
       "  </tbody>\n",
       "</table>\n",
       "</div>"
      ],
      "text/plain": [
       "                              sum_sq     df          F        PR(>F)\n",
       "C(Inflation)              224.750131    2.0   1.285472  2.784249e-01\n",
       "C(Gas_Price)             8129.797768    2.0  46.498864  8.768057e-18\n",
       "C(Inflation):Gas_Price   8160.228266    6.0  15.557638  4.661297e-15\n",
       "Residual                20893.216593  239.0        NaN           NaN"
      ]
     },
     "execution_count": 19,
     "metadata": {},
     "output_type": "execute_result"
    }
   ],
   "source": [
    "sm.stats.anova_lm(ANOVA, typ=2)"
   ]
  },
  {
   "cell_type": "markdown",
   "id": "7f2813f8",
   "metadata": {},
   "source": [
    "#### Results:\n",
    "\n",
    "- There is no interaction between the Inflation and Gas variables. <br>\n",
    "  - __We reject the null hypothesis, there is interaction between Inflation and Gas Price__\n",
    "- The mean response is the same across Inflation. <br>\n",
    "  - __We reject, the mean response to sentiment is not the same across inflation.__\n",
    "- The mean response is the same across Gas. \n",
    "  - __We reject, the mean response to sentiment is not the same across Gas__ "
   ]
  },
  {
   "cell_type": "markdown",
   "id": "7e71fa67",
   "metadata": {},
   "source": [
    "### Tukey Test"
   ]
  },
  {
   "cell_type": "code",
   "execution_count": 20,
   "id": "566c1e1d",
   "metadata": {},
   "outputs": [
    {
     "data": {
      "text/html": [
       "<table class=\"simpletable\">\n",
       "<caption>Multiple Comparison of Means - Tukey HSD, FWER=0.05</caption>\n",
       "<tr>\n",
       "  <th>group1</th> <th>group2</th> <th>meandiff</th>  <th>p-adj</th>  <th>lower</th>   <th>upper</th> <th>reject</th>\n",
       "</tr>\n",
       "<tr>\n",
       "   <td>high</td>    <td>low</td>   <td>-0.3766</td>   <td>0.9</td>  <td>-4.9527</td> <td>4.1995</td>  <td>False</td>\n",
       "</tr>\n",
       "<tr>\n",
       "   <td>high</td>  <td>medium</td>  <td>1.6939</td>  <td>0.5738</td> <td>-2.3114</td> <td>5.6991</td>  <td>False</td>\n",
       "</tr>\n",
       "<tr>\n",
       "    <td>low</td>  <td>medium</td>  <td>2.0705</td>  <td>0.4374</td> <td>-1.893</td>   <td>6.034</td>  <td>False</td>\n",
       "</tr>\n",
       "</table>"
      ],
      "text/plain": [
       "<class 'statsmodels.iolib.table.SimpleTable'>"
      ]
     },
     "execution_count": 20,
     "metadata": {},
     "output_type": "execute_result"
    }
   ],
   "source": [
    "mc = MultiComparison(tw['sentiment'],tw['Inflation'])\n",
    "mcresult = mc.tukeyhsd(0.05) # the significance level is .05\n",
    "mcresult.summary()"
   ]
  },
  {
   "cell_type": "code",
   "execution_count": 21,
   "id": "9921d985",
   "metadata": {},
   "outputs": [
    {
     "data": {
      "text/html": [
       "<table class=\"simpletable\">\n",
       "<caption>Multiple Comparison of Means - Tukey HSD, FWER=0.05</caption>\n",
       "<tr>\n",
       "  <th>group1</th> <th>group2</th> <th>meandiff</th> <th>p-adj</th>  <th>lower</th>   <th>upper</th>  <th>reject</th>\n",
       "</tr>\n",
       "<tr>\n",
       "   <td>high</td>    <td>low</td>   <td>13.8532</td> <td>0.001</td> <td>9.9217</td>  <td>17.7848</td>  <td>True</td> \n",
       "</tr>\n",
       "<tr>\n",
       "   <td>high</td>  <td>medium</td>  <td>12.9085</td> <td>0.001</td> <td>9.5037</td>  <td>16.3133</td>  <td>True</td> \n",
       "</tr>\n",
       "<tr>\n",
       "    <td>low</td>  <td>medium</td>  <td>-0.9448</td> <td>0.77</td>  <td>-4.3496</td> <td>2.4601</td>   <td>False</td>\n",
       "</tr>\n",
       "</table>"
      ],
      "text/plain": [
       "<class 'statsmodels.iolib.table.SimpleTable'>"
      ]
     },
     "execution_count": 21,
     "metadata": {},
     "output_type": "execute_result"
    }
   ],
   "source": [
    "mc = MultiComparison(tw['sentiment'],tw['Gas_Price'])\n",
    "mcresult = mc.tukeyhsd(0.05) # the significance level is .05\n",
    "mcresult.summary()"
   ]
  },
  {
   "cell_type": "markdown",
   "id": "b474db3f",
   "metadata": {},
   "source": [
    "### Interaction Plot"
   ]
  },
  {
   "cell_type": "code",
   "execution_count": 22,
   "id": "7ba51c8b",
   "metadata": {},
   "outputs": [
    {
     "data": {
      "image/png": "[encoded data removed]",
      "text/plain": [
       "<Figure size 432x288 with 1 Axes>"
      ]
     },
     "metadata": {
      "needs_background": "light"
     },
     "output_type": "display_data"
    }
   ],
   "source": [
    "\n",
    "interaction_plot( tw.Gas_Price, tw.Inflation, tw.sentiment,markers=['D','^','*'], ms=10)\n",
    "\n",
    "plt.show()"
   ]
  },
  {
   "cell_type": "markdown",
   "id": "6feb2b8e",
   "metadata": {},
   "source": [
    "## Conclusion:\n",
    "\n"
   ]
  },
  {
   "cell_type": "markdown",
   "id": "dd429223",
   "metadata": {},
   "source": [
    "The assumptions of a two-way anova are not accepteded in this test. Performing both a normality test with Shapiro of the dependent variable and variance test with Levene leads to believe that two out of the three assumptions required are not met. However, moving through the test it is confirmed that gas prices and inflation do interact with each other as sentiment increases. __In short, a nonparametric test is needed for further investigation.__ Based on just this interaction plot where the assumptions of a Two-way anova are not accounted for we see the following results:\n",
    "\n",
    "sentiment is mean between 75 and 77.5: interaction between high gas price and low/high inflation.<br>\n",
    "sentiment is mean between 87.5 and 86: interaction between low gas price and low/medium inflation. \n"
   ]
  },
  {
   "cell_type": "code",
   "execution_count": null,
   "id": "a21a050f",
   "metadata": {},
   "outputs": [],
   "source": []
  }
 ],
 "metadata": {
  "kernelspec": {
   "display_name": "Python 3",
   "language": "python",
   "name": "python3"
  },
  "language_info": {
   "codemirror_mode": {
    "name": "ipython",
    "version": 3
   },
   "file_extension": ".py",
   "mimetype": "text/x-python",
   "name": "python",
   "nbconvert_exporter": "python",
   "pygments_lexer": "ipython3",
   "version": "3.8.11"
  }
 },
 "nbformat": 4,
 "nbformat_minor": 5
}
